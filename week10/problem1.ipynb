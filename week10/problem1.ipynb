{
  "cells": [
    {
      "cell_type": "markdown",
      "metadata": {
        "id": "view-in-github",
        "colab_type": "text"
      },
      "source": [
        "<a href=\"https://colab.research.google.com/github/2211Suraj/CE880_demo/blob/main/week10/problem1.ipynb\" target=\"_parent\"><img src=\"https://colab.research.google.com/assets/colab-badge.svg\" alt=\"Open In Colab\"/></a>"
      ]
    },
    {
      "cell_type": "markdown",
      "metadata": {
        "id": "7WYwtG0ysxCL"
      },
      "source": [
        "Before you turn this problem in, make sure everything runs as expected. First, **restart the kernel** (in the menubar, select Kernel$\\rightarrow$Restart) and then **run all cells** (in the menubar, select Cell$\\rightarrow$Run All).\n",
        "\n",
        "Make sure you fill in any place that says `YOUR CODE HERE` or \"YOUR ANSWER HERE\", as well as your name and collaborators below:"
      ]
    },
    {
      "cell_type": "code",
      "execution_count": null,
      "metadata": {
        "id": "dEyoge8dsxCO"
      },
      "outputs": [],
      "source": [
        "NAME = \"Suraj Rajan\"\n",
        "COLLABORATORS = \"211826\""
      ]
    },
    {
      "cell_type": "markdown",
      "metadata": {
        "id": "E1ohU2jasxCP"
      },
      "source": [
        "---"
      ]
    },
    {
      "cell_type": "markdown",
      "metadata": {
        "id": "xnT5y5gRsxCQ"
      },
      "source": [
        "---\n",
        "# Welcome to CE880\n",
        "### This is your week-10 : Problem notebook\n",
        "\n",
        "For this problem set, we'll be using the Jupyter notebook and please upload this notebook to [Google Colab](https://colab.research.google.com/). \n",
        "\n"
      ]
    },
    {
      "cell_type": "code",
      "execution_count": 6,
      "metadata": {
        "id": "Gow2gd-DsxCR"
      },
      "outputs": [],
      "source": [
        "import numpy as np\n",
        "from sklearn import datasets, linear_model\n",
        "from sklearn.metrics import mean_squared_error, r2_score\n",
        "\n",
        "# Load the diabetes dataset\n",
        "diabetes_X, diabetes_y = datasets.load_diabetes(return_X_y=True)\n",
        "\n",
        "# Use only one feature\n",
        "diabetes_X = diabetes_X[:, np.newaxis, 2]\n",
        "\n",
        "# Split the data into training/testing sets\n",
        "diabetes_X_train = diabetes_X[:-20]\n",
        "diabetes_X_test = diabetes_X[-20:]\n",
        "\n",
        "# Split the targets into training/testing sets\n",
        "diabetes_y_train = diabetes_y[:-20]\n",
        "diabetes_y_test = diabetes_y[-20:]"
      ]
    },
    {
      "cell_type": "markdown",
      "metadata": {
        "id": "XCWWMjXHsxCS"
      },
      "source": [
        "---\n",
        "## Question 1: \n",
        "\n",
        "#### Regression\n",
        "Use the diabetes dataset from sklearn, which I have spilted into training and test sets (diabetes_X_train, diabetes_y_train,diabetes_X_test,diabetes_y_test), please train the `Ridge` linear regression model to get the test accuracy and return `mean squared error`.  "
      ]
    },
    {
      "cell_type": "code",
      "execution_count": 1,
      "metadata": {
        "deletable": false,
        "nbgrader": {
          "cell_type": "code",
          "checksum": "d47902a0c8715a4fa505f31f1056a6d8",
          "grade": false,
          "grade_id": "my_reg_model_mse_ans",
          "locked": false,
          "schema_version": 3,
          "solution": true,
          "task": false
        },
        "id": "Ekjmt_kesxCS"
      },
      "outputs": [],
      "source": [
        "def my_reg_model_mse(diabetes_X_train, diabetes_y_train,diabetes_X_test,diabetes_y_test):\n",
        "    \"\"\"Write a function to train a machine learning model to get the `mean_squared_error` on diabetes_X_test. \n",
        "    Please use Ridge() model to train a regressor. \"\"\"\n",
        "    \n",
        "    log = linear_model.redge()\n",
        "    log.fit(diabetes_X_train,diabetes_y_train)\n",
        "    pred = log.predict(diabetes_X_train)\n",
        "    MSE = mean_squared_error(diabetes_y_test,pred)\n",
        "    return MSE\n",
        "    raise NotImplementedError()"
      ]
    },
    {
      "cell_type": "code",
      "execution_count": 2,
      "metadata": {
        "deletable": false,
        "editable": false,
        "nbgrader": {
          "cell_type": "code",
          "checksum": "78f37df64d0b09c83694c3ad2b64e23f",
          "grade": true,
          "grade_id": "my_reg_model_mse_test",
          "locked": true,
          "points": 5,
          "schema_version": 3,
          "solution": false,
          "task": false
        },
        "colab": {
          "base_uri": "https://localhost:8080/",
          "height": 217
        },
        "id": "i8tgH9OasxCS",
        "outputId": "88ec8830-5870-4894-dcbd-7066af2298b2"
      },
      "outputs": [
        {
          "output_type": "error",
          "ename": "NameError",
          "evalue": "ignored",
          "traceback": [
            "\u001b[0;31m---------------------------------------------------------------------------\u001b[0m",
            "\u001b[0;31mNameError\u001b[0m                                 Traceback (most recent call last)",
            "\u001b[0;32m<ipython-input-2-8e05269cb419>\u001b[0m in \u001b[0;36m<module>\u001b[0;34m()\u001b[0m\n\u001b[1;32m      1\u001b[0m \u001b[0;31m# Check you solution by running this cell\u001b[0m\u001b[0;34m\u001b[0m\u001b[0;34m\u001b[0m\u001b[0;34m\u001b[0m\u001b[0m\n\u001b[1;32m      2\u001b[0m \u001b[0;32mimport\u001b[0m \u001b[0mmath\u001b[0m\u001b[0;34m\u001b[0m\u001b[0;34m\u001b[0m\u001b[0m\n\u001b[0;32m----> 3\u001b[0;31m assert math.isclose(my_reg_model_mse(diabetes_X_train, diabetes_y_train,diabetes_X_test,diabetes_y_test), \n\u001b[0m\u001b[1;32m      4\u001b[0m                     3604.26, rel_tol = 0.05)\n",
            "\u001b[0;31mNameError\u001b[0m: name 'diabetes_X_train' is not defined"
          ]
        }
      ],
      "source": [
        "# Check you solution by running this cell\n",
        "import math\n",
        "assert math.isclose(my_reg_model_mse(diabetes_X_train, diabetes_y_train,diabetes_X_test,diabetes_y_test), \n",
        "                    3604.26, rel_tol = 0.05)"
      ]
    },
    {
      "cell_type": "markdown",
      "metadata": {
        "id": "_m1hLVvKsxCT"
      },
      "source": [
        "---\n",
        "## Question 2: \n",
        "\n",
        "#### Regression\n",
        "Use the diabetes dataset from sklearn, which I have spilted into training and test sets (diabetes_X_train, diabetes_y_train,diabetes_X_test,diabetes_y_test), please train the `Ridge` linear regression model to get the test accuracy and return `r2` (r sqaured value).  "
      ]
    },
    {
      "cell_type": "code",
      "execution_count": 5,
      "metadata": {
        "deletable": false,
        "nbgrader": {
          "cell_type": "code",
          "checksum": "b72d896b193dc8f21adedfc9f46e0249",
          "grade": false,
          "grade_id": "my_reg_model_r2_ans",
          "locked": false,
          "schema_version": 3,
          "solution": true,
          "task": false
        },
        "id": "UL541VY3sxCT"
      },
      "outputs": [],
      "source": [
        "def my_reg_model_r2(diabetes_X_train, diabetes_y_train,diabetes_X_test,diabetes_y_test):\n",
        "    \"\"\"Write a function to train a machine learning model to get the `r2_score` on diabetes_X_test data . \n",
        "    Please use LinearRegression model to train a regressor. \"\"\"\n",
        "    Reg = linear_model.Ridge()\n",
        "    Reg.fit(daibetes_X_train,diaabetes_y_train)\n",
        "    pred = Reg.predict(diabetes_x_test)\n",
        "    score = r2_score(diabetes_y_test,pred)\n",
        "    return score\n",
        "    raise NotImplementedError()"
      ]
    },
    {
      "cell_type": "code",
      "execution_count": 4,
      "metadata": {
        "deletable": false,
        "editable": false,
        "nbgrader": {
          "cell_type": "code",
          "checksum": "e6933c1228049a21f949970f58b3ecae",
          "grade": true,
          "grade_id": "my_reg_model_r2_test",
          "locked": true,
          "points": 4,
          "schema_version": 3,
          "solution": false,
          "task": false
        },
        "colab": {
          "base_uri": "https://localhost:8080/",
          "height": 217
        },
        "id": "BF_3TUZesxCU",
        "outputId": "c89f7f4b-85fe-467f-9cd0-c6e0a660af9c"
      },
      "outputs": [
        {
          "output_type": "error",
          "ename": "NameError",
          "evalue": "ignored",
          "traceback": [
            "\u001b[0;31m---------------------------------------------------------------------------\u001b[0m",
            "\u001b[0;31mNameError\u001b[0m                                 Traceback (most recent call last)",
            "\u001b[0;32m<ipython-input-4-ef50329c6566>\u001b[0m in \u001b[0;36m<module>\u001b[0;34m()\u001b[0m\n\u001b[1;32m      1\u001b[0m \u001b[0;31m# Check you solution by running this cell\u001b[0m\u001b[0;34m\u001b[0m\u001b[0;34m\u001b[0m\u001b[0;34m\u001b[0m\u001b[0m\n\u001b[1;32m      2\u001b[0m \u001b[0;32mimport\u001b[0m \u001b[0mmath\u001b[0m\u001b[0;34m\u001b[0m\u001b[0;34m\u001b[0m\u001b[0m\n\u001b[0;32m----> 3\u001b[0;31m assert math.isclose(my_reg_model_r2(diabetes_X_train, diabetes_y_train,diabetes_X_test,\n\u001b[0m\u001b[1;32m      4\u001b[0m                                     diabetes_y_test), 0.2539, rel_tol = 0.05)\n",
            "\u001b[0;31mNameError\u001b[0m: name 'diabetes_X_train' is not defined"
          ]
        }
      ],
      "source": [
        "# Check you solution by running this cell\n",
        "import math\n",
        "assert math.isclose(my_reg_model_r2(diabetes_X_train, diabetes_y_train,diabetes_X_test,\n",
        "                                    diabetes_y_test), 0.2539, rel_tol = 0.05)"
      ]
    }
  ],
  "metadata": {
    "kernelspec": {
      "display_name": "Python 3",
      "language": "python",
      "name": "python3"
    },
    "language_info": {
      "codemirror_mode": {
        "name": "ipython",
        "version": 3
      },
      "file_extension": ".py",
      "mimetype": "text/x-python",
      "name": "python",
      "nbconvert_exporter": "python",
      "pygments_lexer": "ipython3",
      "version": "3.7.11"
    },
    "colab": {
      "name": "problem1.ipynb",
      "provenance": [],
      "include_colab_link": true
    }
  },
  "nbformat": 4,
  "nbformat_minor": 0
}